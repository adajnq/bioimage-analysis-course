{
 "cells": [
  {
   "cell_type": "markdown",
   "id": "062067db",
   "metadata": {},
   "source": [
    "# Image Analysis with NumPy and Matplotlib 🎨🔍\n",
    "This notebook demonstrates the basic techniques for image analysis using NumPy arrays and visualization with Matplotlib."
   ]
  },
  {
   "cell_type": "markdown",
   "id": "472fbca6",
   "metadata": {},
   "source": [
    "## 1. Image and ndarray Indexing, Image Visualization with Matplotlib 🖼️📊\n",
    "In this section, we will explore how to load and visualize an image using Matplotlib. We will also perform some basic operations on the image array, such as pixel indexing."
   ]
  },
  {
   "cell_type": "code",
   "execution_count": null,
   "id": "d1411b0e",
   "metadata": {},
   "outputs": [],
   "source": [
    "# Import necessary libraries\n",
    "import matplotlib.pyplot as plt\n",
    "import numpy as np\n",
    "from skimage.data import skin\n",
    "\n",
    "# Load the image\n",
    "image = skin()\n",
    "\n",
    "# Display the image\n",
    "plt.imshow(image)\n",
    "plt.title(\"Original Image\")  # Adding title to the plot\n",
    "plt.show()  # Show the plot with the image\n"
   ]
  },
  {
   "cell_type": "code",
   "execution_count": null,
   "id": "45cad84d",
   "metadata": {},
   "outputs": [],
   "source": [
    "# Task 1: Accessing specific pixel values in the image array\n",
    "# Let's examine the dimensions of the image first to understand its structure.\n",
    "np.shape(image)\n",
    "\n",
    "# Access the pixel value at row 50, column 100\n",
    "# This gives the color values (RGB) of the pixel at the specified location.\n",
    "image[50, 100, :]"
   ]
  },
  {
   "cell_type": "code",
   "execution_count": null,
   "id": "b0448581",
   "metadata": {},
   "outputs": [],
   "source": [
    "# Task 2: Crop a specific region of the image\n",
    "# Here we select a 50x50 pixel region starting from (400, 400) to (450, 450)\n",
    "# This allows us to focus on a specific area of the image for further analysis.\n",
    "plt.imshow(image[400:450, 400:450, :])\n",
    "plt.title(\"Cropped Tissue Area\")  # Adding a title to the cropped region\n",
    "plt.show()"
   ]
  },
  {
   "cell_type": "code",
   "execution_count": null,
   "id": "784f96a2",
   "metadata": {},
   "outputs": [],
   "source": [
    "# Task 3: Access all the red values of the image\n",
    "plt.imshow(image[:,:,0])"
   ]
  },
  {
   "cell_type": "markdown",
   "id": "7e196db8",
   "metadata": {},
   "source": [
    "## 2. Understanding the values inside the images"
   ]
  },
  {
   "cell_type": "code",
   "execution_count": null,
   "id": "441a93fe",
   "metadata": {},
   "outputs": [],
   "source": [
    "from skimage.data import human_mitosis\n",
    "mitosis = human_mitosis()\n",
    "\n",
    "plt.imshow(mitosis, cmap='magma')\n",
    "plt.colorbar()  # Add a color bar to indicate the pixel intensity scale\n",
    "plt.title(\"Heatmap of Image\")\n",
    "plt.axis('off')  # Hide the axis for better visualization\n",
    "plt.show()\n"
   ]
  },
  {
   "cell_type": "code",
   "execution_count": null,
   "id": "1107c93b",
   "metadata": {},
   "outputs": [],
   "source": [
    "plt.hist(mitosis.flatten(),bins=100)\n",
    "plt.xlabel(\"pixel number\") # what is this dimension of the bin?\n",
    "plt.ylabel(\"intensity\") # and this one?\n",
    "plt.title(\"Mitosis - histogram\")"
   ]
  },
  {
   "cell_type": "code",
   "execution_count": null,
   "id": "68faa9ec",
   "metadata": {},
   "outputs": [],
   "source": [
    "## EXTRACTING CROPS FROM DISTINCT TISSUE AREAS\n",
    "\n",
    "## Crop a black part of the image and store it as \"background\"\n",
    "background = mitosis[200:250,100:200]\n",
    "## Crop a part of the image that contains nuclei and store it as \"nuclei\"\n",
    "nuclei = mitosis[300:350,300:400]"
   ]
  },
  {
   "cell_type": "code",
   "execution_count": null,
   "id": "21806a67",
   "metadata": {},
   "outputs": [],
   "source": [
    "# Display the images\n",
    "f, axes = plt.subplots(1, 2, figsize=(16, 5))\n",
    "axes[0].imshow(background, cmap='gray')\n",
    "axes[0].set_title('Background')\n",
    "axes[0].axis('off')\n",
    "\n",
    "axes[1].imshow(nuclei, cmap='gray')\n",
    "axes[1].set_title('Nuclei')\n",
    "axes[1].axis('off')\n",
    "\n",
    "plt.show()"
   ]
  },
  {
   "cell_type": "code",
   "execution_count": null,
   "id": "0ef14857",
   "metadata": {},
   "outputs": [],
   "source": [
    "# Display the histograms\n",
    "f, axes = plt.subplots(1, 3, figsize=(16, 5))\n",
    "\n",
    "axes[0].hist(background.flatten(),bins=50)\n",
    "axes[0].set_title('Background')\n",
    "\n",
    "axes[1].hist(nuclei.flatten(),bins=50)\n",
    "axes[1].set_title('Nuclei')\n",
    "\n",
    "\n",
    "axes[2].hist(mitosis.flatten(),bins=50)\n",
    "axes[2].set_title('Original')"
   ]
  },
  {
   "cell_type": "code",
   "execution_count": null,
   "id": "68707ba3",
   "metadata": {},
   "outputs": [],
   "source": [
    "# Do we have overexposed pixels in the image? Where?\n",
    "\n",
    "overexposure_threshold = 200  # Max value for 8-bit image\n",
    "\n",
    "# Create a binary mask of overexposed pixels\n",
    "overexposed_mask = mitosis >= overexposure_threshold\n",
    "\n",
    "# Visualize the mask of overexposed pixels\n",
    "plt.figure(figsize=(8, 6))\n",
    "\n",
    "# Display original image\n",
    "plt.subplot(1, 2, 1)\n",
    "plt.imshow(mitosis, cmap='gray', interpolation='nearest')\n",
    "plt.title(\"Original Image\")\n",
    "plt.axis('off')\n",
    "\n",
    "# Display overexposed mask (white pixels are overexposed)\n",
    "plt.subplot(1, 2, 2)\n",
    "plt.imshow(overexposed_mask, cmap='hot', interpolation='nearest')  # 'hot' colormap for heatmap effect\n",
    "plt.title(\"Overexposed Pixels Mask\")\n",
    "plt.axis('off')\n",
    "\n",
    "plt.tight_layout()\n",
    "plt.show()\n",
    "\n",
    "overexposed_percentage = np.sum(overexposed_mask) / overexposed_mask.size * 100\n",
    "print(f\"Percentage of overexposed pixels: {overexposed_percentage:.2f}%\")\n"
   ]
  },
  {
   "cell_type": "code",
   "execution_count": null,
   "id": "ba0b24a2",
   "metadata": {},
   "outputs": [],
   "source": [
    "# Bonus: Try the code from above - this time, try to split the pixel values of the nuclei from the background. \n",
    "# Remember histograms are very useful for this "
   ]
  },
  {
   "cell_type": "markdown",
   "id": "4f3af7b7",
   "metadata": {},
   "source": [
    "## 3. Understanding the effect of bit-depth in data"
   ]
  },
  {
   "cell_type": "code",
   "execution_count": null,
   "id": "496ce592",
   "metadata": {},
   "outputs": [],
   "source": [
    "#  Convert the 8-bit image to 2-bit\n",
    "mitosis_2bit = (mitosis // 64)  # Integer division by 64 to reduce to 0-3\n",
    "plt.figure(figsize=(12, 6))\n",
    "\n",
    "# Display original 8-bit image\n",
    "plt.subplot(1, 2, 1)\n",
    "plt.imshow(mitosis, cmap='gray', interpolation='nearest')\n",
    "plt.colorbar()  # Add a color bar to indicate the pixel intensity scale\n",
    "\n",
    "plt.title(\"Original 8-bit Image\")\n",
    "plt.axis('off')\n",
    "\n",
    "# Display the 2-bit image\n",
    "plt.subplot(1, 2, 2)\n",
    "plt.imshow(mitosis_2bit, cmap='gray', interpolation='nearest')\n",
    "plt.colorbar()  # Add a color bar to indicate the pixel intensity scale\n",
    "plt.title(\"Converted 2-bit Image\")\n",
    "plt.axis('off')\n",
    "\n",
    "plt.tight_layout()\n",
    "plt.show()\n"
   ]
  },
  {
   "cell_type": "code",
   "execution_count": null,
   "id": "4a2ddec4",
   "metadata": {},
   "outputs": [],
   "source": [
    "mitosis_16bit = mitosis.astype(np.uint16) * 256  # Ensure the image is in uint16 format\n",
    "# Visualize the original 8-bit image and the 16-bit image\n",
    "plt.figure(figsize=(12, 6))\n",
    "\n",
    "# Display original 8-bit image\n",
    "plt.subplot(1, 2, 1)\n",
    "plt.imshow(mitosis, cmap='gray', interpolation='nearest')\n",
    "plt.title(\"Original 8-bit Image\")\n",
    "plt.axis('off')\n",
    "plt.colorbar()  # Add a color bar to indicate the pixel intensity scale\n",
    "\n",
    "# Display the 16-bit image\n",
    "plt.subplot(1, 2, 2)\n",
    "plt.imshow(mitosis_16bit, cmap='gray', interpolation='nearest')\n",
    "plt.title(\"Converted 16-bit Image\")\n",
    "plt.axis('off')\n",
    "plt.colorbar()  # Add a color bar to indicate the pixel intensity scale\n",
    "\n",
    "plt.tight_layout()\n",
    "plt.show()\n"
   ]
  }
 ],
 "metadata": {
  "kernelspec": {
   "display_name": "scimap",
   "language": "python",
   "name": "python3"
  },
  "language_info": {
   "codemirror_mode": {
    "name": "ipython",
    "version": 3
   },
   "file_extension": ".py",
   "mimetype": "text/x-python",
   "name": "python",
   "nbconvert_exporter": "python",
   "pygments_lexer": "ipython3",
   "version": "3.10.16"
  }
 },
 "nbformat": 4,
 "nbformat_minor": 5
}
