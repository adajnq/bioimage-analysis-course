{
 "cells": [
  {
   "cell_type": "markdown",
   "id": "062067db",
   "metadata": {},
   "source": [
    "# Image Analysis with NumPy and Matplotlib 🎨🔍\n",
    "This notebook demonstrates the basic techniques for image analysis using NumPy arrays and visualization with Matplotlib."
   ]
  },
  {
   "cell_type": "markdown",
   "id": "472fbca6",
   "metadata": {},
   "source": [
    "## 1. Image and ndarray Indexing, Image Visualization with Matplotlib 🖼️📊\n",
    "In this section, we will explore how to load and visualize an image using Matplotlib. We will also perform some basic operations on the image array, such as pixel indexing."
   ]
  },
  {
   "cell_type": "code",
   "execution_count": null,
   "id": "d1411b0e",
   "metadata": {},
   "outputs": [],
   "source": [
    "# Import necessary libraries\n",
    "import matplotlib.pyplot as plt\n",
    "import numpy as np\n",
    "from skimage.data import skin\n",
    "\n",
    "# Load the image\n",
    "image = skin()\n",
    "\n",
    "# Display the image\n"
   ]
  },
  {
   "cell_type": "code",
   "execution_count": null,
   "id": "45cad84d",
   "metadata": {},
   "outputs": [],
   "source": [
    "# Task 1: Accessing specific pixel values in the image array\n",
    "# Let's examine the dimensions of the image first to understand its structure.\n",
    "\n",
    "# Access the pixel value at row 50, column 100\n",
    "# This gives the color values (RGB) of the pixel at the specified location.\n"
   ]
  },
  {
   "cell_type": "code",
   "execution_count": null,
   "id": "b0448581",
   "metadata": {},
   "outputs": [],
   "source": [
    "# Task 2: Crop a specific region of the image\n",
    "# Here we select a 50x50 pixel region starting from (400, 400) to (450, 450)\n",
    "# This allows us to focus on a specific area of the image for further analysis.\n"
   ]
  },
  {
   "cell_type": "code",
   "execution_count": null,
   "id": "784f96a2",
   "metadata": {},
   "outputs": [],
   "source": [
    "# Task 3: Access all the red values of the image\n"
   ]
  },
  {
   "cell_type": "markdown",
   "id": "7e196db8",
   "metadata": {},
   "source": [
    "## 2. Understanding the values inside the images"
   ]
  },
  {
   "cell_type": "code",
   "execution_count": null,
   "id": "441a93fe",
   "metadata": {},
   "outputs": [],
   "source": [
    "from skimage.data import human_mitosis\n",
    "mitosis = human_mitosis()\n",
    "\n",
    "# Display the image with plt.imshow()"
   ]
  },
  {
   "cell_type": "code",
   "execution_count": null,
   "id": "1107c93b",
   "metadata": {},
   "outputs": [],
   "source": [
    "# Show a histogram with the image values"
   ]
  },
  {
   "cell_type": "code",
   "execution_count": null,
   "id": "68faa9ec",
   "metadata": {},
   "outputs": [],
   "source": [
    "## EXTRACTING CROPS FROM DISTINCT TISSUE AREAS\n",
    "\n",
    "## Crop a black part of the image and store it as \"background\"\n",
    "## Crop a part of the image that contains nuclei and store it as \"nuclei\"\n"
   ]
  },
  {
   "cell_type": "code",
   "execution_count": null,
   "id": "21806a67",
   "metadata": {},
   "outputs": [],
   "source": [
    "# Display the crops side by side"
   ]
  },
  {
   "cell_type": "code",
   "execution_count": null,
   "id": "0ef14857",
   "metadata": {},
   "outputs": [],
   "source": [
    "# Display the histograms"
   ]
  },
  {
   "cell_type": "code",
   "execution_count": null,
   "id": "68707ba3",
   "metadata": {},
   "outputs": [],
   "source": [
    "# Do we have overexposed pixels in the image? Where?\n",
    "\n",
    "# Create a binary mask of overexposed pixels\n",
    "\n",
    "# Visualize the mask of overexposed pixels\n",
    "\n",
    "# Display original image\n",
    "\n",
    "# Display overexposed mask (white pixels are overexposed)\n",
    "\n",
    "# Print percentage of overexposed pixels\n"
   ]
  },
  {
   "cell_type": "code",
   "execution_count": null,
   "id": "ba0b24a2",
   "metadata": {},
   "outputs": [],
   "source": [
    "# Bonus: Try the code from above - this time, try to split the pixel values of the nuclei from the background. \n",
    "# Remember histograms are very useful for this "
   ]
  },
  {
   "cell_type": "markdown",
   "id": "4f3af7b7",
   "metadata": {},
   "source": [
    "## 3. Understanding the effect of bit-depth in data"
   ]
  },
  {
   "cell_type": "code",
   "execution_count": null,
   "id": "496ce592",
   "metadata": {},
   "outputs": [],
   "source": [
    "#  Convert the 8-bit image to 2-bit\n",
    "\n",
    "# Display original 8-bit image\n",
    "\n",
    "# Display the 2-bit image\n"
   ]
  },
  {
   "cell_type": "code",
   "execution_count": null,
   "id": "4a2ddec4",
   "metadata": {},
   "outputs": [],
   "source": [
    "# Convert the 8bit image to 16 bit\n",
    "\n",
    "# Visualize the original 8-bit image and the 16-bit image\n",
    "\n",
    "# Display the 16-bit image\n"
   ]
  }
 ],
 "metadata": {
  "kernelspec": {
   "display_name": "scimap",
   "language": "python",
   "name": "python3"
  },
  "language_info": {
   "codemirror_mode": {
    "name": "ipython",
    "version": 3
   },
   "file_extension": ".py",
   "mimetype": "text/x-python",
   "name": "python",
   "nbconvert_exporter": "python",
   "pygments_lexer": "ipython3",
   "version": "3.10.16"
  }
 },
 "nbformat": 4,
 "nbformat_minor": 5
}
